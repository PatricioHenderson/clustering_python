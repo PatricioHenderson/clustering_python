{
 "cells": [
  {
   "cell_type": "markdown",
   "metadata": {
    "id": "Ea9CPlvttQda"
   },
   "source": [
    "<a href=\"https://www.inove.com.ar\"><img src=\"https://raw.githubusercontent.com/InoveAlumnos/dataset_analytics_python/master/images/PA%20Banner.png\" width=\"1000\" align=\"center\"></a>\n",
    "\n",
    "\n",
    "# Segmentación de clientes\n",
    "\n",
    "Crear un modelo de segmentación para la estimación de los tipos de clientes que van de compras a un shoping<br>\n",
    "v1.1"
   ]
  },
  {
   "cell_type": "code",
   "execution_count": 1,
   "metadata": {
    "executionInfo": {
     "elapsed": 1920,
     "status": "ok",
     "timestamp": 1604852479368,
     "user": {
      "displayName": "inove",
      "photoUrl": "https://lh3.googleusercontent.com/a-/AOh14GhXN9lpkKFLA5gp8tW9cD3CZ1yGa9DUy9HZOgZm=s64",
      "userId": "03494171924251581304"
     },
     "user_tz": 180
    },
    "id": "xJN8ND5ctQdc"
   },
   "outputs": [],
   "source": [
    "import os\n",
    "import platform\n",
    "\n",
    "import numpy as np\n",
    "import matplotlib.pyplot as plt\n",
    "import seaborn as sns\n",
    "import pandas as pd"
   ]
  },
  {
   "cell_type": "markdown",
   "metadata": {
    "id": "v-jK-TsQCwW9"
   },
   "source": [
    "# Recolectar datos\n",
    "<div align=\"center\"><img src=\"https://raw.githubusercontent.com/InoveAlumnos/dataset_analytics_python/master/images/Pipeline1.png\" width=\"1000\" align=\"middle\"></div>"
   ]
  },
  {
   "cell_type": "code",
   "execution_count": 2,
   "metadata": {
    "colab": {
     "base_uri": "https://localhost:8080/"
    },
    "executionInfo": {
     "elapsed": 1133,
     "status": "ok",
     "timestamp": 1604853011216,
     "user": {
      "displayName": "inove",
      "photoUrl": "https://lh3.googleusercontent.com/a-/AOh14GhXN9lpkKFLA5gp8tW9cD3CZ1yGa9DUy9HZOgZm=s64",
      "userId": "03494171924251581304"
     },
     "user_tz": 180
    },
    "id": "E7lED92mqYMN",
    "outputId": "358071f8-fbc1-4361-e333-9325ab1a6fac"
   },
   "outputs": [
    {
     "name": "stderr",
     "output_type": "stream",
     "text": [
      "  % Total    % Received % Xferd  Average Speed   Time    Time     Time  Current\n",
      "                                 Dload  Upload   Total   Spent    Left  Speed\n",
      "\n",
      "  0     0    0     0    0     0      0      0 --:--:-- --:--:-- --:--:--     0\n",
      "100  3981  100  3981    0     0   3981      0  0:00:01 --:--:--  0:00:01 10207\n"
     ]
    }
   ],
   "source": [
    "if os.access('Mall_Customers.csv', os.F_OK) is False:\n",
    "    if platform.system() == 'Windows':\n",
    "        !curl https://raw.githubusercontent.com/InoveAlumnos/dataset_analytics_python/master/Mall_Customers.csv > Mall_Customers.csv\n",
    "    else:\n",
    "        !wget Mall_Customers.csv https://raw.githubusercontent.com/InoveAlumnos/dataset_analytics_python/master/Mall_Customers.csv"
   ]
  },
  {
   "cell_type": "markdown",
   "metadata": {
    "id": "7hYHWckmsssa"
   },
   "source": [
    "### `Mall_Customers.csv`:\n",
    "El dataset **`Mall_Customers.csv`** contiene datos sobre clientes que asisten al shopping a comprar, y sus características de consumo.<br>\n",
    "[Dataset source](https://www.kaggle.com/vjchoudhary7/customer-segmentation-tutorial-in-python)\n",
    "- **CustomerID** --> id del comprador, ejemplo 5\n",
    "- **Gender** --> género, masculino (Male) o femenino (female)\n",
    "- **Age** --> edad\n",
    "- **Annual Income** --> ingreso de dinero anual de la persona en miles de dolares\n",
    "- **Spending socre** --> que tan gastador es la persona (de 1 a 100)"
   ]
  },
  {
   "cell_type": "code",
   "execution_count": 3,
   "metadata": {
    "executionInfo": {
     "elapsed": 797,
     "status": "ok",
     "timestamp": 1604853127634,
     "user": {
      "displayName": "inove",
      "photoUrl": "https://lh3.googleusercontent.com/a-/AOh14GhXN9lpkKFLA5gp8tW9cD3CZ1yGa9DUy9HZOgZm=s64",
      "userId": "03494171924251581304"
     },
     "user_tz": 180
    },
    "id": "GChnsEZeszqi"
   },
   "outputs": [],
   "source": [
    "df = pd.read_csv(\"Mall_Customers.csv\")"
   ]
  },
  {
   "cell_type": "markdown",
   "metadata": {
    "id": "Q5I6l8ZCFaZ8"
   },
   "source": [
    "# Procesar datos\n",
    "<div align=\"center\"><img src=\"https://raw.githubusercontent.com/InoveAlumnos/dataset_analytics_python/master/images/Pipeline2.png\" width=\"1000\" align=\"middle\"></div>"
   ]
  },
  {
   "cell_type": "code",
   "execution_count": 4,
   "metadata": {
    "colab": {
     "base_uri": "https://localhost:8080/",
     "height": 204
    },
    "executionInfo": {
     "elapsed": 962,
     "status": "ok",
     "timestamp": 1604853147070,
     "user": {
      "displayName": "inove",
      "photoUrl": "https://lh3.googleusercontent.com/a-/AOh14GhXN9lpkKFLA5gp8tW9cD3CZ1yGa9DUy9HZOgZm=s64",
      "userId": "03494171924251581304"
     },
     "user_tz": 180
    },
    "id": "Pp6NRggps5UE",
    "outputId": "c8d67007-78a7-400a-a772-d3a10b9caa58"
   },
   "outputs": [
    {
     "data": {
      "text/html": [
       "<div>\n",
       "<style scoped>\n",
       "    .dataframe tbody tr th:only-of-type {\n",
       "        vertical-align: middle;\n",
       "    }\n",
       "\n",
       "    .dataframe tbody tr th {\n",
       "        vertical-align: top;\n",
       "    }\n",
       "\n",
       "    .dataframe thead th {\n",
       "        text-align: right;\n",
       "    }\n",
       "</style>\n",
       "<table border=\"1\" class=\"dataframe\">\n",
       "  <thead>\n",
       "    <tr style=\"text-align: right;\">\n",
       "      <th></th>\n",
       "      <th>CustomerID</th>\n",
       "      <th>Gender</th>\n",
       "      <th>Age</th>\n",
       "      <th>Annual Income (k$)</th>\n",
       "      <th>Spending Score (1-100)</th>\n",
       "    </tr>\n",
       "  </thead>\n",
       "  <tbody>\n",
       "    <tr>\n",
       "      <th>0</th>\n",
       "      <td>1</td>\n",
       "      <td>Male</td>\n",
       "      <td>19</td>\n",
       "      <td>15</td>\n",
       "      <td>39</td>\n",
       "    </tr>\n",
       "    <tr>\n",
       "      <th>1</th>\n",
       "      <td>2</td>\n",
       "      <td>Male</td>\n",
       "      <td>21</td>\n",
       "      <td>15</td>\n",
       "      <td>81</td>\n",
       "    </tr>\n",
       "    <tr>\n",
       "      <th>2</th>\n",
       "      <td>3</td>\n",
       "      <td>Female</td>\n",
       "      <td>20</td>\n",
       "      <td>16</td>\n",
       "      <td>6</td>\n",
       "    </tr>\n",
       "    <tr>\n",
       "      <th>3</th>\n",
       "      <td>4</td>\n",
       "      <td>Female</td>\n",
       "      <td>23</td>\n",
       "      <td>16</td>\n",
       "      <td>77</td>\n",
       "    </tr>\n",
       "    <tr>\n",
       "      <th>4</th>\n",
       "      <td>5</td>\n",
       "      <td>Female</td>\n",
       "      <td>31</td>\n",
       "      <td>17</td>\n",
       "      <td>40</td>\n",
       "    </tr>\n",
       "  </tbody>\n",
       "</table>\n",
       "</div>"
      ],
      "text/plain": [
       "   CustomerID  Gender  Age  Annual Income (k$)  Spending Score (1-100)\n",
       "0           1    Male   19                  15                      39\n",
       "1           2    Male   21                  15                      81\n",
       "2           3  Female   20                  16                       6\n",
       "3           4  Female   23                  16                      77\n",
       "4           5  Female   31                  17                      40"
      ]
     },
     "execution_count": 4,
     "metadata": {},
     "output_type": "execute_result"
    }
   ],
   "source": [
    "# Alumno, inspeccione el dataset, visualice las columnas que posee y sus primeras filas\n",
    "df.head()"
   ]
  },
  {
   "cell_type": "code",
   "execution_count": 5,
   "metadata": {
    "executionInfo": {
     "elapsed": 765,
     "status": "ok",
     "timestamp": 1604853397697,
     "user": {
      "displayName": "inove",
      "photoUrl": "https://lh3.googleusercontent.com/a-/AOh14GhXN9lpkKFLA5gp8tW9cD3CZ1yGa9DUy9HZOgZm=s64",
      "userId": "03494171924251581304"
     },
     "user_tz": 180
    },
    "id": "7Sx5a9IetWLs"
   },
   "outputs": [],
   "source": [
    "# Alumno: Los algoritmos de clustering no funcionan bien con las variables categóricas, \n",
    "# obtener un nuevo dataset (df2) sin la columna CustomerID y Gender\n",
    "df2 = df.drop(['CustomerID', 'Gender'], axis=1)"
   ]
  },
  {
   "cell_type": "code",
   "execution_count": 6,
   "metadata": {
    "colab": {
     "base_uri": "https://localhost:8080/",
     "height": 359
    },
    "executionInfo": {
     "elapsed": 784,
     "status": "ok",
     "timestamp": 1604853440849,
     "user": {
      "displayName": "inove",
      "photoUrl": "https://lh3.googleusercontent.com/a-/AOh14GhXN9lpkKFLA5gp8tW9cD3CZ1yGa9DUy9HZOgZm=s64",
      "userId": "03494171924251581304"
     },
     "user_tz": 180
    },
    "id": "fQ3bTC9Ot5-h",
    "outputId": "9991f1c4-a5cb-4443-e089-953cdc2b0a85"
   },
   "outputs": [
    {
     "data": {
      "text/html": [
       "<div>\n",
       "<style scoped>\n",
       "    .dataframe tbody tr th:only-of-type {\n",
       "        vertical-align: middle;\n",
       "    }\n",
       "\n",
       "    .dataframe tbody tr th {\n",
       "        vertical-align: top;\n",
       "    }\n",
       "\n",
       "    .dataframe thead th {\n",
       "        text-align: right;\n",
       "    }\n",
       "</style>\n",
       "<table border=\"1\" class=\"dataframe\">\n",
       "  <thead>\n",
       "    <tr style=\"text-align: right;\">\n",
       "      <th></th>\n",
       "      <th>Age</th>\n",
       "      <th>Annual Income (k$)</th>\n",
       "      <th>Spending Score (1-100)</th>\n",
       "    </tr>\n",
       "  </thead>\n",
       "  <tbody>\n",
       "    <tr>\n",
       "      <th>count</th>\n",
       "      <td>200.000000</td>\n",
       "      <td>200.000000</td>\n",
       "      <td>200.000000</td>\n",
       "    </tr>\n",
       "    <tr>\n",
       "      <th>mean</th>\n",
       "      <td>38.850000</td>\n",
       "      <td>60.560000</td>\n",
       "      <td>50.200000</td>\n",
       "    </tr>\n",
       "    <tr>\n",
       "      <th>std</th>\n",
       "      <td>13.969007</td>\n",
       "      <td>26.264721</td>\n",
       "      <td>25.823522</td>\n",
       "    </tr>\n",
       "    <tr>\n",
       "      <th>min</th>\n",
       "      <td>18.000000</td>\n",
       "      <td>15.000000</td>\n",
       "      <td>1.000000</td>\n",
       "    </tr>\n",
       "    <tr>\n",
       "      <th>25%</th>\n",
       "      <td>28.750000</td>\n",
       "      <td>41.500000</td>\n",
       "      <td>34.750000</td>\n",
       "    </tr>\n",
       "    <tr>\n",
       "      <th>50%</th>\n",
       "      <td>36.000000</td>\n",
       "      <td>61.500000</td>\n",
       "      <td>50.000000</td>\n",
       "    </tr>\n",
       "    <tr>\n",
       "      <th>75%</th>\n",
       "      <td>49.000000</td>\n",
       "      <td>78.000000</td>\n",
       "      <td>73.000000</td>\n",
       "    </tr>\n",
       "    <tr>\n",
       "      <th>max</th>\n",
       "      <td>70.000000</td>\n",
       "      <td>137.000000</td>\n",
       "      <td>99.000000</td>\n",
       "    </tr>\n",
       "    <tr>\n",
       "      <th>Nan</th>\n",
       "      <td>0.000000</td>\n",
       "      <td>0.000000</td>\n",
       "      <td>0.000000</td>\n",
       "    </tr>\n",
       "    <tr>\n",
       "      <th>%Nan</th>\n",
       "      <td>0.000000</td>\n",
       "      <td>0.000000</td>\n",
       "      <td>0.000000</td>\n",
       "    </tr>\n",
       "  </tbody>\n",
       "</table>\n",
       "</div>"
      ],
      "text/plain": [
       "              Age  Annual Income (k$)  Spending Score (1-100)\n",
       "count  200.000000          200.000000              200.000000\n",
       "mean    38.850000           60.560000               50.200000\n",
       "std     13.969007           26.264721               25.823522\n",
       "min     18.000000           15.000000                1.000000\n",
       "25%     28.750000           41.500000               34.750000\n",
       "50%     36.000000           61.500000               50.000000\n",
       "75%     49.000000           78.000000               73.000000\n",
       "max     70.000000          137.000000               99.000000\n",
       "Nan      0.000000            0.000000                0.000000\n",
       "%Nan     0.000000            0.000000                0.000000"
      ]
     },
     "execution_count": 6,
     "metadata": {},
     "output_type": "execute_result"
    }
   ],
   "source": [
    "# Alumno, realice una inspeccion del dataset en búsqueda de elementos faltantes\n",
    "des = df2.describe()\n",
    "des.loc['Nan'] = df2.isna().sum()\n",
    "des.loc['%Nan'] = (df2.isna().mean())*100\n",
    "des"
   ]
  },
  {
   "cell_type": "code",
   "execution_count": 7,
   "metadata": {
    "colab": {
     "base_uri": "https://localhost:8080/"
    },
    "executionInfo": {
     "elapsed": 792,
     "status": "ok",
     "timestamp": 1604853450966,
     "user": {
      "displayName": "inove",
      "photoUrl": "https://lh3.googleusercontent.com/a-/AOh14GhXN9lpkKFLA5gp8tW9cD3CZ1yGa9DUy9HZOgZm=s64",
      "userId": "03494171924251581304"
     },
     "user_tz": 180
    },
    "id": "x88JG9AOeJzx",
    "outputId": "90a1082c-0644-4f26-bfbf-570b7db42e80"
   },
   "outputs": [
    {
     "name": "stdout",
     "output_type": "stream",
     "text": [
      "Datos disponibles para analizar:  200\n"
     ]
    }
   ],
   "source": [
    "# Alumno: ¿Cuántas filas/datos hay para analizar?\n",
    "print('Datos disponibles para analizar: ', df2.shape[0])"
   ]
  },
  {
   "cell_type": "markdown",
   "metadata": {
    "id": "8T_3enyVHYJa"
   },
   "source": [
    "# Explorar datos\n",
    "<div align=\"center\"><img src=\"https://raw.githubusercontent.com/InoveAlumnos/dataset_analytics_python/master/images/Pipeline3.png\" width=\"1000\" align=\"middle\"></div>"
   ]
  },
  {
   "cell_type": "code",
   "execution_count": 8,
   "metadata": {
    "colab": {
     "base_uri": "https://localhost:8080/",
     "height": 567
    },
    "executionInfo": {
     "elapsed": 4663,
     "status": "ok",
     "timestamp": 1604853858665,
     "user": {
      "displayName": "inove",
      "photoUrl": "https://lh3.googleusercontent.com/a-/AOh14GhXN9lpkKFLA5gp8tW9cD3CZ1yGa9DUy9HZOgZm=s64",
      "userId": "03494171924251581304"
     },
     "user_tz": 180
    },
    "id": "AT6v5vGXhfTl",
    "outputId": "9030facd-76fb-4088-a435-2ab8913b4412"
   },
   "outputs": [
    {
     "data": {
      "text/plain": [
       "<seaborn.axisgrid.PairGrid at 0x1f4f30c39e8>"
      ]
     },
     "execution_count": 8,
     "metadata": {},
     "output_type": "execute_result"
    },
    {
     "data": {
      "image/png": "[encoded data removed]",
      "text/plain": [
       "<Figure size 540x540 with 12 Axes>"
      ]
     },
     "metadata": {
      "needs_background": "light"
     },
     "output_type": "display_data"
    }
   ],
   "source": [
    "# Observar todas las relaciones entre todos los features, utilizar pairplot\n",
    "sns.pairplot(df2)"
   ]
  },
  {
   "cell_type": "code",
   "execution_count": 9,
   "metadata": {
    "colab": {
     "base_uri": "https://localhost:8080/",
     "height": 279
    },
    "executionInfo": {
     "elapsed": 855,
     "status": "ok",
     "timestamp": 1604854016867,
     "user": {
      "displayName": "inove",
      "photoUrl": "https://lh3.googleusercontent.com/a-/AOh14GhXN9lpkKFLA5gp8tW9cD3CZ1yGa9DUy9HZOgZm=s64",
      "userId": "03494171924251581304"
     },
     "user_tz": 180
    },
    "id": "8EAqWbUmvv0B",
    "outputId": "3f03f779-5122-4362-f644-1a1fb3a4fcc7"
   },
   "outputs": [
    {
     "data": {
      "image/png": "[encoded data removed]",
      "text/plain": [
       "<Figure size 432x288 with 1 Axes>"
      ]
     },
     "metadata": {
      "needs_background": "light"
     },
     "output_type": "display_data"
    }
   ],
   "source": [
    "# Alumno: Se puede observar que donde se ve claramente una segmentación de grupos\n",
    "# en en la relación de \"Annual Income\" y \"Spending Socre\"\n",
    "# Graficar unicamente la relación x=Annual Income con y=SpendingScore\n",
    "# con un scatter plot\n",
    "sns.scatterplot(x=df2['Annual Income (k$)'], y=df2['Spending Score (1-100)'])\n",
    "plt.show()"
   ]
  },
  {
   "cell_type": "markdown",
   "metadata": {
    "id": "2gRIv88AKfQY"
   },
   "source": [
    "# Entrenar modelo\n",
    "<div align=\"center\"><img src=\"https://raw.githubusercontent.com/InoveAlumnos/dataset_analytics_python/master/images/Pipeline4.png\" width=\"1000\" align=\"middle\"></div>"
   ]
  },
  {
   "cell_type": "code",
   "execution_count": 10,
   "metadata": {
    "executionInfo": {
     "elapsed": 778,
     "status": "ok",
     "timestamp": 1604854082951,
     "user": {
      "displayName": "inove",
      "photoUrl": "https://lh3.googleusercontent.com/a-/AOh14GhXN9lpkKFLA5gp8tW9cD3CZ1yGa9DUy9HZOgZm=s64",
      "userId": "03494171924251581304"
     },
     "user_tz": 180
    },
    "id": "vstdWr9uiMEr"
   },
   "outputs": [],
   "source": [
    "# Almuno: Crear un numpy array \"X\" con los features de entrada (Annual Income y Spending Score)\n",
    "X = df2[['Annual Income (k$)', 'Spending Score (1-100)']].values"
   ]
  },
  {
   "cell_type": "markdown",
   "metadata": {
    "id": "dD2Qeok9ybNx"
   },
   "source": [
    "#### Crear un modelo de segmentación con Kmeans\n",
    "Parámetros\n",
    "- n_clusters --> (k) número de clusters/grupos (defecto 5)\n",
    "- init --> método utilizado para determianr donde comienzan los clusters\n",
    " - k-means++ --> mecanismo inteligente para determinar el comienzo (defecto)\n",
    " - random --> los centros se determinarn aleatoriamente\n",
    "- max_iter --> cantidad de iteración (defecto 300)"
   ]
  },
  {
   "cell_type": "code",
   "execution_count": 11,
   "metadata": {
    "colab": {
     "base_uri": "https://localhost:8080/"
    },
    "executionInfo": {
     "elapsed": 1178,
     "status": "ok",
     "timestamp": 1604855884542,
     "user": {
      "displayName": "inove",
      "photoUrl": "https://lh3.googleusercontent.com/a-/AOh14GhXN9lpkKFLA5gp8tW9cD3CZ1yGa9DUy9HZOgZm=s64",
      "userId": "03494171924251581304"
     },
     "user_tz": 180
    },
    "id": "k5K0rKwthUqy",
    "outputId": "69bc3bf9-829c-423e-934b-884ebefee3e4"
   },
   "outputs": [],
   "source": [
    "# Almuno: Entrenar diferentes modelos de Kmeans en un rango de cluster (2, 10)\n",
    "# Conservar el resultado de \"inertial\" para utilizar como métrica de selccion\n",
    "from sklearn.cluster import KMeans\n",
    "from sklearn.metrics import silhouette_score\n",
    "\n",
    "n_clusters = list(range(2, 11))\n",
    "ensayos = len(n_clusters)\n",
    "\n",
    "ssd = np.zeros((ensayos))\n",
    "score = np.zeros((ensayos))\n",
    "\n",
    "for i in range(ensayos): \n",
    "    kmeans = KMeans(n_clusters=n_clusters[i], init=\"k-means++\", random_state=0)\n",
    "    kmeans.fit(X)\n",
    "    ssd[i] = kmeans.inertia_\n",
    "    score[i] = silhouette_score(X, kmeans.labels_)"
   ]
  },
  {
   "cell_type": "code",
   "execution_count": 12,
   "metadata": {
    "colab": {
     "base_uri": "https://localhost:8080/",
     "height": 282
    },
    "executionInfo": {
     "elapsed": 1104,
     "status": "ok",
     "timestamp": 1604855938672,
     "user": {
      "displayName": "inove",
      "photoUrl": "https://lh3.googleusercontent.com/a-/AOh14GhXN9lpkKFLA5gp8tW9cD3CZ1yGa9DUy9HZOgZm=s64",
      "userId": "03494171924251581304"
     },
     "user_tz": 180
    },
    "id": "7FAigant1EkS",
    "outputId": "afbd90b5-3351-40fc-ed6d-f67b27ae48db"
   },
   "outputs": [
    {
     "data": {
      "image/png": "[encoded data removed]",
      "text/plain": [
       "<Figure size 432x288 with 1 Axes>"
      ]
     },
     "metadata": {
      "needs_background": "light"
     },
     "output_type": "display_data"
    },
    {
     "name": "stdout",
     "output_type": "stream",
     "text": [
      "El mejor resultado se consigue con clusters= 5\n"
     ]
    }
   ],
   "source": [
    "# Dibujar la evolucion del error (inertia) y deteminar el \n",
    "# punto de quiebre (elbow point) para deteminar el mejor k\n",
    "fig = plt.figure()\n",
    "ax = fig.add_subplot()\n",
    "ax.plot(n_clusters, ssd/ssd.max(), label='error')\n",
    "ax.plot(n_clusters, score, label='score')\n",
    "ax.grid('dashed')\n",
    "ax.legend()\n",
    "plt.show()\n",
    "best_cluster = n_clusters[score.argmax()]\n",
    "print('El mejor resultado se consigue con clusters=', best_cluster)"
   ]
  },
  {
   "cell_type": "code",
   "execution_count": 13,
   "metadata": {
    "executionInfo": {
     "elapsed": 776,
     "status": "ok",
     "timestamp": 1604855941551,
     "user": {
      "displayName": "inove",
      "photoUrl": "https://lh3.googleusercontent.com/a-/AOh14GhXN9lpkKFLA5gp8tW9cD3CZ1yGa9DUy9HZOgZm=s64",
      "userId": "03494171924251581304"
     },
     "user_tz": 180
    },
    "id": "fivxbc9PEFOu"
   },
   "outputs": [],
   "source": [
    "# Alumno: Entrenar el modelo con el mejor \"K\" encontrado\n",
    "# y determinar los labels\n",
    "kmeans = KMeans(n_clusters=best_cluster, init=\"k-means++\", random_state=0)\n",
    "kmeans.fit(X)\n",
    "labels = kmeans.predict(X)"
   ]
  },
  {
   "cell_type": "code",
   "execution_count": 14,
   "metadata": {
    "executionInfo": {
     "elapsed": 769,
     "status": "ok",
     "timestamp": 1604855948975,
     "user": {
      "displayName": "inove",
      "photoUrl": "https://lh3.googleusercontent.com/a-/AOh14GhXN9lpkKFLA5gp8tW9cD3CZ1yGa9DUy9HZOgZm=s64",
      "userId": "03494171924251581304"
     },
     "user_tz": 180
    },
    "id": "ad76vntQ1jzs"
   },
   "outputs": [],
   "source": [
    "# Alumno: Sumar la columna de labels con el nombre de custseg (customer segmentation)\n",
    "# a su dataset\n",
    "df2['custseg'] = labels"
   ]
  },
  {
   "cell_type": "markdown",
   "metadata": {
    "id": "Y1HVAZeONzsu"
   },
   "source": [
    "# Validar modelo\n",
    "<img src=\"https://raw.githubusercontent.com/InoveAlumnos/dataset_analytics_python/master/images/Pipeline5.png\" width=\"1000\" align=\"middle\">"
   ]
  },
  {
   "cell_type": "code",
   "execution_count": 15,
   "metadata": {
    "colab": {
     "base_uri": "https://localhost:8080/"
    },
    "executionInfo": {
     "elapsed": 752,
     "status": "ok",
     "timestamp": 1604855952383,
     "user": {
      "displayName": "inove",
      "photoUrl": "https://lh3.googleusercontent.com/a-/AOh14GhXN9lpkKFLA5gp8tW9cD3CZ1yGa9DUy9HZOgZm=s64",
      "userId": "03494171924251581304"
     },
     "user_tz": 180
    },
    "id": "SNyj1SjfMZso",
    "outputId": "f7d87b47-d4cb-4e2a-891f-ecc01410ee44"
   },
   "outputs": [
    {
     "data": {
      "text/plain": [
       "0.553931997444648"
      ]
     },
     "execution_count": 15,
     "metadata": {},
     "output_type": "execute_result"
    }
   ],
   "source": [
    "# Alumno: Calcular la exactitud (accuracy) del modelo\n",
    "from sklearn.metrics import silhouette_score\n",
    "silhouette_score (X, kmeans.labels_)"
   ]
  },
  {
   "cell_type": "markdown",
   "metadata": {
    "id": "JZZbCJICOFjb"
   },
   "source": [
    "# Utilizar modelo\n",
    "<img src=\"https://raw.githubusercontent.com/InoveAlumnos/dataset_analytics_python/master/images/Pipeline6.png\" width=\"1000\" align=\"middle\">"
   ]
  },
  {
   "cell_type": "code",
   "execution_count": 16,
   "metadata": {
    "colab": {
     "base_uri": "https://localhost:8080/",
     "height": 279
    },
    "executionInfo": {
     "elapsed": 2160,
     "status": "ok",
     "timestamp": 1604856199746,
     "user": {
      "displayName": "inove",
      "photoUrl": "https://lh3.googleusercontent.com/a-/AOh14GhXN9lpkKFLA5gp8tW9cD3CZ1yGa9DUy9HZOgZm=s64",
      "userId": "03494171924251581304"
     },
     "user_tz": 180
    },
    "id": "Si_GLqaRN-nK",
    "outputId": "29b5a458-4733-46f7-b97e-20854ed6e63e"
   },
   "outputs": [
    {
     "data": {
      "image/png": "[encoded data removed]",
      "text/plain": [
       "<Figure size 432x288 with 1 Axes>"
      ]
     },
     "metadata": {
      "needs_background": "light"
     },
     "output_type": "display_data"
    }
   ],
   "source": [
    "# Alumno: Volver a repetir el gráfico de scatter \"Annual Income\" y \"Spending Socre\"\n",
    "# pero ahora coloreando con \"hue\" los puntos según su clase de custseg\n",
    "sns.scatterplot(x=df2['Annual Income (k$)'], y=df2['Spending Score (1-100)'], hue=df2['custseg'], palette='bright')\n",
    "plt.show()"
   ]
  },
  {
   "cell_type": "markdown",
   "metadata": {},
   "source": [
    "#### Ejemplo de aplicación creada con este notebook"
   ]
  },
  {
   "cell_type": "code",
   "execution_count": 2,
   "metadata": {},
   "outputs": [],
   "source": [
    "# Visitar la siguiente URL\n",
    "http://inove.pythonanywhere.com/machinelearning/clientes"
   ]
  },
  {
   "cell_type": "code",
   "execution_count": null,
   "metadata": {},
   "outputs": [],
   "source": [
    "# Github de referencia\n",
    "https://github.com/InoveProyectos/machine_learning/tree/main/consumidores_segmentacion"
   ]
  }
 ],
 "metadata": {
  "colab": {
   "collapsed_sections": [],
   "name": "1_customers_segmenation.ipynb",
   "provenance": [],
   "toc_visible": true
  },
  "kernelspec": {
   "display_name": "Python 3",
   "language": "python",
   "name": "python3"
  },
  "language_info": {
   "codemirror_mode": {
    "name": "ipython",
    "version": 3
   },
   "file_extension": ".py",
   "mimetype": "text/x-python",
   "name": "python",
   "nbconvert_exporter": "python",
   "pygments_lexer": "ipython3",
   "version": "3.9.2"
  }
 },
 "nbformat": 4,
 "nbformat_minor": 4
}
