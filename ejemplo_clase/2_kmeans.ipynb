{
 "cells": [
  {
   "cell_type": "markdown",
   "metadata": {
    "id": "Ea9CPlvttQda"
   },
   "source": [
    "<a href=\"https://www.inove.com.ar\"><img src=\"https://raw.githubusercontent.com/InoveAlumnos/dataset_analytics_python/master/images/PA%20Banner.png\" width=\"1000\" align=\"center\"></a>\n",
    "\n",
    "\n",
    "# Clustering con kmeans\n",
    "\n",
    "Crear un modelo de segmentación para la estimación de los tipos de clientes según su hábito de compras, ingresos, edad, etc<br>\n",
    "v1.1"
   ]
  },
  {
   "cell_type": "code",
   "execution_count": null,
   "metadata": {
    "id": "xJN8ND5ctQdc"
   },
   "outputs": [],
   "source": [
    "import os\n",
    "import platform\n",
    "\n",
    "import numpy as np\n",
    "import matplotlib.pyplot as plt\n",
    "import seaborn as sns\n",
    "import pandas as pd"
   ]
  },
  {
   "cell_type": "markdown",
   "metadata": {
    "id": "v-jK-TsQCwW9"
   },
   "source": [
    "# Recolectar datos\n",
    "<div align=\"center\"><img src=\"https://raw.githubusercontent.com/InoveAlumnos/dataset_analytics_python/master/images/Pipeline1.png\" width=\"1000\" align=\"middle\"></div>"
   ]
  },
  {
   "cell_type": "code",
   "execution_count": null,
   "metadata": {
    "id": "E7lED92mqYMN"
   },
   "outputs": [],
   "source": [
    "if os.access('Cust_Segmentation.csv', os.F_OK) is False:\n",
    "    if platform.system() == 'Windows':\n",
    "        !curl https://raw.githubusercontent.com/InoveAlumnos/dataset_analytics_python/master/Cust_Segmentation.csv > Cust_Segmentation.csv\n",
    "    else:\n",
    "        !wget Mall_Customers.csv https://raw.githubusercontent.com/InoveAlumnos/dataset_analytics_python/master/Cust_Segmentation.csv"
   ]
  },
  {
   "cell_type": "markdown",
   "metadata": {
    "id": "7hYHWckmsssa"
   },
   "source": [
    "### `Cust_Segmentation.csv`:\n",
    "El dataset **`Cust_Segmentation.csv`** contiene datos sobre personas, sus hábitos de consumo, edad, etc, los cuales pueden ser utilizados para dirigir una campaña de publicidad o de ventas.<br>\n",
    "[Dataset source](https://www.kaggle.com/gangliu/custdatasets)\n",
    "- **CustomerID** --> id del comprador, ejemplo 5\n",
    "- **Age** --> edad\n",
    "- **Edu** --> Nivel de educación\n",
    "- **Years Emplyed** --> Años que lleva trabajando\n",
    "- **Income** --> ingreso de dinero anual de la persona en miles de dolares\n",
    "- **Card Debt** --> Débitos de la tarjeta (gastos)\n",
    "- **Other Debt** --> Otros gastos\n",
    "- **Defaulted** --> Deudor (0 --> No), (1 --> Si)\n",
    "- **Adress** --> Dirección\n",
    "- **DebtIncomeRatio** --> que tan gastador es la persona"
   ]
  },
  {
   "cell_type": "code",
   "execution_count": null,
   "metadata": {
    "id": "GChnsEZeszqi"
   },
   "outputs": [],
   "source": [
    "df = pd.read_csv(\"Cust_Segmentation.csv\")"
   ]
  },
  {
   "cell_type": "markdown",
   "metadata": {
    "id": "Q5I6l8ZCFaZ8"
   },
   "source": [
    "# Procesar datos\n",
    "<div align=\"center\"><img src=\"https://raw.githubusercontent.com/InoveAlumnos/dataset_analytics_python/master/images/Pipeline2.png\" width=\"1000\" align=\"middle\"></div>"
   ]
  },
  {
   "cell_type": "code",
   "execution_count": null,
   "metadata": {
    "colab": {
     "base_uri": "https://localhost:8080/",
     "height": 204
    },
    "executionInfo": {
     "elapsed": 969,
     "status": "ok",
     "timestamp": 1604877006510,
     "user": {
      "displayName": "inove",
      "photoUrl": "https://lh3.googleusercontent.com/a-/AOh14GhXN9lpkKFLA5gp8tW9cD3CZ1yGa9DUy9HZOgZm=s64",
      "userId": "03494171924251581304"
     },
     "user_tz": 180
    },
    "id": "Pp6NRggps5UE",
    "outputId": "8ba209b9-41b4-4daa-b22a-82e2826d096c"
   },
   "outputs": [],
   "source": [
    "# inspeccione el dataset, visualice las columnas que posee y sus primeras filas\n",
    "# Ver que columnas son categóricas y numéricas\n",
    "df.head()"
   ]
  },
  {
   "cell_type": "code",
   "execution_count": null,
   "metadata": {
    "id": "7Sx5a9IetWLs"
   },
   "outputs": [],
   "source": [
    "# Los algoritmos de clustering no funcionan bien con las variables categóricas, \n",
    "# obtener un nuevo dataset (df2) sin la columna Address, Defaulted y Customer Id\n",
    "# La coulmna \"Edu\" se puede considerar como numérica no categórica, porque\n",
    "# cuanto más alto su valor mayor nivel de educación tiene la persona, por lo que\n",
    "# los \"números\" tiene un significado\n",
    "df2 = df.drop(['Customer Id', 'Defaulted', 'Address'], axis=1)"
   ]
  },
  {
   "cell_type": "code",
   "execution_count": null,
   "metadata": {
    "colab": {
     "base_uri": "https://localhost:8080/",
     "height": 359
    },
    "executionInfo": {
     "elapsed": 1289,
     "status": "ok",
     "timestamp": 1604877006852,
     "user": {
      "displayName": "inove",
      "photoUrl": "https://lh3.googleusercontent.com/a-/AOh14GhXN9lpkKFLA5gp8tW9cD3CZ1yGa9DUy9HZOgZm=s64",
      "userId": "03494171924251581304"
     },
     "user_tz": 180
    },
    "id": "fQ3bTC9Ot5-h",
    "outputId": "7394075f-0ae4-496d-95c5-c0c67c6151d6"
   },
   "outputs": [],
   "source": [
    "# Realizar una inspeccion del dataset en búsqueda de elementos faltantes\n",
    "des = df2.describe()\n",
    "des.loc['Nan'] = df2.isna().sum()\n",
    "des.loc['%Nan'] = (df2.isna().mean())*100\n",
    "des"
   ]
  },
  {
   "cell_type": "code",
   "execution_count": null,
   "metadata": {
    "colab": {
     "base_uri": "https://localhost:8080/"
    },
    "executionInfo": {
     "elapsed": 1277,
     "status": "ok",
     "timestamp": 1604877006853,
     "user": {
      "displayName": "inove",
      "photoUrl": "https://lh3.googleusercontent.com/a-/AOh14GhXN9lpkKFLA5gp8tW9cD3CZ1yGa9DUy9HZOgZm=s64",
      "userId": "03494171924251581304"
     },
     "user_tz": 180
    },
    "id": "x88JG9AOeJzx",
    "outputId": "f8c34f08-f31f-47de-9575-e52af9c0fa0a"
   },
   "outputs": [],
   "source": [
    "# ¿Cuántas filas/datos hay para analizar?\n",
    "print('Datos disponibles para analizar: ', df2.shape[0])"
   ]
  },
  {
   "cell_type": "markdown",
   "metadata": {
    "id": "8T_3enyVHYJa"
   },
   "source": [
    "# Explorar datos\n",
    "<div align=\"center\"><img src=\"https://raw.githubusercontent.com/InoveAlumnos/dataset_analytics_python/master/images/Pipeline3.png\" width=\"1000\" align=\"middle\"></div>"
   ]
  },
  {
   "cell_type": "code",
   "execution_count": null,
   "metadata": {
    "colab": {
     "base_uri": "https://localhost:8080/",
     "height": 1000
    },
    "executionInfo": {
     "elapsed": 20686,
     "status": "ok",
     "timestamp": 1604877026275,
     "user": {
      "displayName": "inove",
      "photoUrl": "https://lh3.googleusercontent.com/a-/AOh14GhXN9lpkKFLA5gp8tW9cD3CZ1yGa9DUy9HZOgZm=s64",
      "userId": "03494171924251581304"
     },
     "user_tz": 180
    },
    "id": "AT6v5vGXhfTl",
    "outputId": "f657f036-8a73-4208-a0d0-ad0b4d70c252"
   },
   "outputs": [],
   "source": [
    "# Observar todas las relaciones entre todos los features, utilizar pairplot\n",
    "sns.pairplot(df2)"
   ]
  },
  {
   "cell_type": "markdown",
   "metadata": {
    "id": "8MnYWoeX-UFj"
   },
   "source": [
    "A simple vista es muy dificil distingir grupos relacionando solo dos variables. Confiaremos en el algoritmo de clustering y utilizaremos todo los features de entrada"
   ]
  },
  {
   "cell_type": "markdown",
   "metadata": {
    "id": "2gRIv88AKfQY"
   },
   "source": [
    "# Entrenar modelo\n",
    "<div align=\"center\"><img src=\"https://raw.githubusercontent.com/InoveAlumnos/dataset_analytics_python/master/images/Pipeline4.png\" width=\"1000\" align=\"middle\"></div>"
   ]
  },
  {
   "cell_type": "code",
   "execution_count": null,
   "metadata": {
    "id": "vstdWr9uiMEr"
   },
   "outputs": [],
   "source": [
    "# Crear un numpy array \"X\" con los features de entrada\n",
    "# Se analizó si era conveniente realizar la normalización de datos, cuando se\n",
    "# ensayó se obtuvo un peor resultado. Cuando se realiza clustering hay que tener\n",
    "# cuidado que el proceso de normalización puede afectar la distribución\n",
    "# de los datos y por lo tanto alterar el resultado (es cuestión de probar)\n",
    "# from sklearn.preprocessing import StandardScaler\n",
    "# df3 = df2.copy()\n",
    "# X = StandardScaler().fit_transform(df3)\n",
    "X = df2.values"
   ]
  },
  {
   "cell_type": "markdown",
   "metadata": {
    "id": "dD2Qeok9ybNx"
   },
   "source": [
    "#### Crear un modelo de segmentación con Kmeans\n",
    "Parámetros\n",
    "- n_clusters --> (k) número de clusters/grupos (defecto 5)\n",
    "- init --> método utilizado para determinar donde comienzan los clusters\n",
    " - k-means++ --> mecanismo inteligente para determinar el comienzo (defecto)\n",
    " - random --> los centros se determinan aleatoriamente\n",
    "- max_iter --> cantidad de iteración (defecto 300)"
   ]
  },
  {
   "cell_type": "code",
   "execution_count": null,
   "metadata": {
    "id": "k5K0rKwthUqy"
   },
   "outputs": [],
   "source": [
    "# Almuno: Entrenar diferentes modelos de Kmeans en un rango de cluster (2, 10)\n",
    "# Conservar el resultado de \"inertial\" para utilizar como métrica de selccion\n",
    "from sklearn.cluster import KMeans\n",
    "from sklearn.metrics import silhouette_score\n",
    "\n",
    "def find_best_model(X, max_clusters=10):\n",
    "\n",
    "    n_clusters = list(range(2, max_clusters+1))\n",
    "    ensayos = len(n_clusters)\n",
    "\n",
    "    ssd = np.zeros((ensayos))\n",
    "    score = np.zeros((ensayos))\n",
    "\n",
    "    for i in range(ensayos): \n",
    "        kmeans = KMeans(n_clusters=n_clusters[i], init=\"k-means++\", random_state=0)\n",
    "        kmeans.fit(X)\n",
    "        ssd[i] = kmeans.inertia_\n",
    "        score[i] = silhouette_score(X, kmeans.labels_)\n",
    "\n",
    "    # Dibujar la evolucion del error (inertia) y deteminar el \n",
    "    # punto de quiebre (elbow point) para deteminar el mejor k\n",
    "    fig = plt.figure()\n",
    "    ax = fig.add_subplot()\n",
    "    ax.plot(n_clusters, ssd/ssd.max(), label='error')\n",
    "    ax.plot(n_clusters, score, label='score')\n",
    "    ax.grid('dashed')\n",
    "    ax.legend()\n",
    "    plt.show()\n",
    "    best_cluster = n_clusters[score.argmax()]\n",
    "    print('El mejor resultado se consigue con clusters=', best_cluster)\n",
    "    return best_cluster"
   ]
  },
  {
   "cell_type": "code",
   "execution_count": null,
   "metadata": {
    "colab": {
     "base_uri": "https://localhost:8080/",
     "height": 282
    },
    "executionInfo": {
     "elapsed": 20662,
     "status": "ok",
     "timestamp": 1604877026280,
     "user": {
      "displayName": "inove",
      "photoUrl": "https://lh3.googleusercontent.com/a-/AOh14GhXN9lpkKFLA5gp8tW9cD3CZ1yGa9DUy9HZOgZm=s64",
      "userId": "03494171924251581304"
     },
     "user_tz": 180
    },
    "id": "7FAigant1EkS",
    "outputId": "1d7bffb7-ff46-4b78-8ca6-c67bf5db4333"
   },
   "outputs": [],
   "source": [
    "best_cluster = find_best_model(X)"
   ]
  },
  {
   "cell_type": "code",
   "execution_count": null,
   "metadata": {
    "colab": {
     "base_uri": "https://localhost:8080/",
     "height": 282
    },
    "executionInfo": {
     "elapsed": 21819,
     "status": "ok",
     "timestamp": 1604877027452,
     "user": {
      "displayName": "inove",
      "photoUrl": "https://lh3.googleusercontent.com/a-/AOh14GhXN9lpkKFLA5gp8tW9cD3CZ1yGa9DUy9HZOgZm=s64",
      "userId": "03494171924251581304"
     },
     "user_tz": 180
    },
    "id": "2Dt6WEUEAkvU",
    "outputId": "de7095b1-5f19-4a01-a326-4a6ae4ceb345"
   },
   "outputs": [],
   "source": [
    "# No se obtuvo un resultado muy bueno, el punto de codo (elbow) con K=4 no coincide\n",
    "# con el mejor punto de score del modelo\n",
    "df4 = df2.drop(['Years Employed', 'Age'], axis=1)\n",
    "X2 = df4.values\n",
    "\n",
    "best_cluster = find_best_model(X2)"
   ]
  },
  {
   "cell_type": "markdown",
   "metadata": {
    "id": "6EwAbifKB1tM"
   },
   "source": [
    "Reduciendo un poco los features se obtuvo un mejor modelo, aún el punto de codo no coincide con k=4, pero se ve claramente que ese el punot indicado"
   ]
  },
  {
   "cell_type": "code",
   "execution_count": null,
   "metadata": {
    "id": "fivxbc9PEFOu"
   },
   "outputs": [],
   "source": [
    "# Entrenar el modelo con el mejor K (el punto de codo)\n",
    "kmeans = KMeans(n_clusters=4, init=\"k-means++\", random_state=0)\n",
    "kmeans.fit(X)\n",
    "labels = kmeans.predict(X)"
   ]
  },
  {
   "cell_type": "code",
   "execution_count": null,
   "metadata": {
    "id": "ad76vntQ1jzs"
   },
   "outputs": [],
   "source": [
    "# Sumar la columna de labels con el nombre de custseg (customer segmentation)\n",
    "# a su dataset\n",
    "df4['custseg'] = labels"
   ]
  },
  {
   "cell_type": "markdown",
   "metadata": {
    "id": "Y1HVAZeONzsu"
   },
   "source": [
    "# Validar modelo\n",
    "<img src=\"https://raw.githubusercontent.com/InoveAlumnos/dataset_analytics_python/master/images/Pipeline5.png\" width=\"1000\" align=\"middle\">"
   ]
  },
  {
   "cell_type": "code",
   "execution_count": null,
   "metadata": {
    "colab": {
     "base_uri": "https://localhost:8080/"
    },
    "executionInfo": {
     "elapsed": 21790,
     "status": "ok",
     "timestamp": 1604877027455,
     "user": {
      "displayName": "inove",
      "photoUrl": "https://lh3.googleusercontent.com/a-/AOh14GhXN9lpkKFLA5gp8tW9cD3CZ1yGa9DUy9HZOgZm=s64",
      "userId": "03494171924251581304"
     },
     "user_tz": 180
    },
    "id": "SNyj1SjfMZso",
    "outputId": "aee61735-581b-4728-d890-c93cc9110a4e"
   },
   "outputs": [],
   "source": [
    "# Calcular la exactitud (accuracy) del modelo\n",
    "from sklearn.metrics import silhouette_score\n",
    "silhouette_score (X, kmeans.labels_)"
   ]
  },
  {
   "cell_type": "markdown",
   "metadata": {
    "id": "JZZbCJICOFjb"
   },
   "source": [
    "# Utilizar modelo\n",
    "<img src=\"https://raw.githubusercontent.com/InoveAlumnos/dataset_analytics_python/master/images/Pipeline6.png\" width=\"1000\" align=\"middle\">"
   ]
  },
  {
   "cell_type": "code",
   "execution_count": null,
   "metadata": {
    "colab": {
     "base_uri": "https://localhost:8080/",
     "height": 920
    },
    "executionInfo": {
     "elapsed": 35264,
     "status": "ok",
     "timestamp": 1604877040944,
     "user": {
      "displayName": "inove",
      "photoUrl": "https://lh3.googleusercontent.com/a-/AOh14GhXN9lpkKFLA5gp8tW9cD3CZ1yGa9DUy9HZOgZm=s64",
      "userId": "03494171924251581304"
     },
     "user_tz": 180
    },
    "id": "5MTrobSpCY85",
    "outputId": "94647657-1071-4dea-c293-afefa2576688"
   },
   "outputs": [],
   "source": [
    "# Observar todas las relaciones entre todos los features, utilizar pairplot\n",
    "sns.pairplot(df4, hue='custseg', palette='bright')"
   ]
  },
  {
   "cell_type": "code",
   "execution_count": null,
   "metadata": {
    "colab": {
     "base_uri": "https://localhost:8080/",
     "height": 279
    },
    "executionInfo": {
     "elapsed": 35252,
     "status": "ok",
     "timestamp": 1604877040946,
     "user": {
      "displayName": "inove",
      "photoUrl": "https://lh3.googleusercontent.com/a-/AOh14GhXN9lpkKFLA5gp8tW9cD3CZ1yGa9DUy9HZOgZm=s64",
      "userId": "03494171924251581304"
     },
     "user_tz": 180
    },
    "id": "Si_GLqaRN-nK",
    "outputId": "ea989af2-7f9f-483d-cbb6-354fd39d3892"
   },
   "outputs": [],
   "source": [
    "# Observar la relación entre el ingreso (income) y el débito\n",
    "# pero ahora coloreando con \"hue\" los puntos según su clase de custseg\n",
    "sns.scatterplot(data=df4, x='Income', y='Card Debt', hue='custseg', palette='bright')\n",
    "plt.show()"
   ]
  },
  {
   "cell_type": "markdown",
   "metadata": {
    "id": "2UQS0HBLDB1q"
   },
   "source": [
    "Se puede ve que no existe una relación lineal entre ingreso y gasto"
   ]
  },
  {
   "cell_type": "code",
   "execution_count": null,
   "metadata": {
    "colab": {
     "base_uri": "https://localhost:8080/",
     "height": 279
    },
    "executionInfo": {
     "elapsed": 35245,
     "status": "ok",
     "timestamp": 1604877040955,
     "user": {
      "displayName": "inove",
      "photoUrl": "https://lh3.googleusercontent.com/a-/AOh14GhXN9lpkKFLA5gp8tW9cD3CZ1yGa9DUy9HZOgZm=s64",
      "userId": "03494171924251581304"
     },
     "user_tz": 180
    },
    "id": "LZW5guaYGvLF",
    "outputId": "a984c061-dac1-40ff-93bb-0809ea3720fc"
   },
   "outputs": [],
   "source": [
    "# Observar la relación entre el nivel de educación (Edu) y el débito\n",
    "# pero ahora coloreando con \"hue\" los puntos según su clase de custseg\n",
    "sns.scatterplot(data=df4, x='Edu', y='Card Debt', hue='custseg', palette='bright')\n",
    "plt.show()"
   ]
  },
  {
   "cell_type": "markdown",
   "metadata": {
    "id": "EtWkDaobG2py"
   },
   "source": [
    "Es muy dificil de distingir los clusters al comparar \"Edu\" y \"Débitos\", utilizemos un gráfico 3D para visualizar tanto el \"Income\" como la educación \"Edu\" respecto a los débitos de tarjeta"
   ]
  },
  {
   "cell_type": "code",
   "execution_count": null,
   "metadata": {
    "colab": {
     "base_uri": "https://localhost:8080/",
     "height": 520
    },
    "executionInfo": {
     "elapsed": 1621,
     "status": "ok",
     "timestamp": 1604877058933,
     "user": {
      "displayName": "inove",
      "photoUrl": "https://lh3.googleusercontent.com/a-/AOh14GhXN9lpkKFLA5gp8tW9cD3CZ1yGa9DUy9HZOgZm=s64",
      "userId": "03494171924251581304"
     },
     "user_tz": 180
    },
    "id": "zAWeBulgDlTB",
    "outputId": "1cf0f82f-269b-4207-a327-eba39552e179"
   },
   "outputs": [],
   "source": [
    "fig = plt.figure(figsize=(16, 9))\n",
    "ax = fig.add_subplot(projection='3d')\n",
    "\n",
    "n_clusters = df4['custseg'].unique()\n",
    "\n",
    "for cluster in n_clusters:\n",
    "    data = df4[df4['custseg'] == cluster]\n",
    "    ax.scatter(data['Income'], data['Edu'], data['Card Debt'], label='cluster ' + str(cluster))\n",
    "\n",
    "ax.set_xlabel('Ingresos')\n",
    "ax.set_ylabel('Educación')\n",
    "ax.set_zlabel('Débito')\n",
    "ax.legend()\n",
    "ax.view_init(45, 30)\n",
    "plt.show()"
   ]
  },
  {
   "cell_type": "markdown",
   "metadata": {
    "id": "rxrEmYNoHMqh"
   },
   "source": [
    "# Conclusión\n",
    "<img src=\"https://raw.githubusercontent.com/InoveAlumnos/dataset_analytics_python/master/images/Pipeline7.png\" width=\"1000\" align=\"middle\">"
   ]
  },
  {
   "cell_type": "markdown",
   "metadata": {
    "id": "oRrb3jnrHNvM"
   },
   "source": [
    "La conclusión es que se puede observar en el último gráfico que a mayor ingreso las personas gastan más, pero es notoria que a mayor nivel de educación pareciera realizarse menos gastos (¿o capaz haya menos información para educación más elevada?"
   ]
  },
  {
   "cell_type": "code",
   "execution_count": null,
   "metadata": {
    "colab": {
     "base_uri": "https://localhost:8080/",
     "height": 551
    },
    "executionInfo": {
     "elapsed": 971,
     "status": "ok",
     "timestamp": 1604877063841,
     "user": {
      "displayName": "inove",
      "photoUrl": "https://lh3.googleusercontent.com/a-/AOh14GhXN9lpkKFLA5gp8tW9cD3CZ1yGa9DUy9HZOgZm=s64",
      "userId": "03494171924251581304"
     },
     "user_tz": 180
    },
    "id": "f2jT-mC8Hi58",
    "outputId": "29bfdcd0-cdae-45ac-e180-130ff00ab547"
   },
   "outputs": [],
   "source": [
    "# Analizar la distribución de la educación en el dataset\n",
    "fig = plt.figure(figsize=(16, 9))\n",
    "ax = fig.add_subplot()\n",
    "sns.boxplot(x=df4['Edu'], ax=ax)\n",
    "ax.grid('dashed')"
   ]
  },
  {
   "cell_type": "markdown",
   "metadata": {
    "id": "yrg01a4LHmK_"
   },
   "source": [
    "Correcto! La mayor cantidad de información se encuentra para los niveles de estudio intermedio y bajo, es por eso que no hay suficiente información para los estudios elevados y confirma el resultado observado"
   ]
  }
 ],
 "metadata": {
  "colab": {
   "collapsed_sections": [],
   "name": "2_kmeans.ipynb",
   "provenance": [],
   "toc_visible": true
  },
  "kernelspec": {
   "display_name": "Python 3",
   "language": "python",
   "name": "python3"
  },
  "language_info": {
   "codemirror_mode": {
    "name": "ipython",
    "version": 3
   },
   "file_extension": ".py",
   "mimetype": "text/x-python",
   "name": "python",
   "nbconvert_exporter": "python",
   "pygments_lexer": "ipython3",
   "version": "3.9.2"
  }
 },
 "nbformat": 4,
 "nbformat_minor": 4
}
